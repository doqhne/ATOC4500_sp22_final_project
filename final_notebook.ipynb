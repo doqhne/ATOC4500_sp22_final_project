{
 "cells": [
  {
   "cell_type": "markdown",
   "id": "325e7b1a-6752-4e68-94f0-66453835e768",
   "metadata": {},
   "source": [
    "## **ATOC4500 Data Science Lab: Final Project**\n",
    "## **Using rapid ice loss events to predict when CESM1 ensemble members go ice free**\n",
    "#### **Author: Daphne Quint, daqu2831@colorado.edu**\n",
    "#### **Last updated: April 14, 2022**\n",
    "\n",
    "---------------------------------------------------------------------------------------"
   ]
  },
  {
   "cell_type": "markdown",
   "id": "c8109c09-44e4-4b1e-bce5-ffaf336a87a9",
   "metadata": {
    "jp-MarkdownHeadingCollapsed": true,
    "tags": []
   },
   "source": [
    "### Import packages"
   ]
  },
  {
   "cell_type": "code",
   "execution_count": 1,
   "id": "84337a16-1c71-4058-a049-e9b290f3d3dd",
   "metadata": {},
   "outputs": [],
   "source": [
    "import xarray as xr\n",
    "import numpy as np\n",
    "import pandas as pd\n",
    "import matplotlib.pyplot as plt\n",
    "from sklearn.model_selection import train_test_split\n",
    "from random import randint"
   ]
  },
  {
   "cell_type": "markdown",
   "id": "74de63e6-6768-4cb0-95ae-d03739d866cb",
   "metadata": {
    "jp-MarkdownHeadingCollapsed": true,
    "tags": []
   },
   "source": [
    "### Define functions"
   ]
  },
  {
   "cell_type": "code",
   "execution_count": 4,
   "id": "d4155683-8fe7-4b67-a18e-a6f9110546bb",
   "metadata": {},
   "outputs": [],
   "source": [
    "def define_holdout_data(x, y, verbose):\n",
    "    \"\"\"Perform a 80/20 test-train split (80% of data is training, 20% is testing). Split is randomized with each call.\"\"\"\n",
    "    random_state = randint(0,1000)\n",
    "    x_train, x_test, y_train, y_test = train_test_split(x, y, test_size=0.20, random_state=random_state)\n",
    "    if verbose==True:\n",
    "        print(\"Prior to scaling and rebalacing...\")\n",
    "        print(\"Shape of training predictors: \"+str(np.shape(x_train)))\n",
    "        print(\"Shape of testing predictors: \"+str(np.shape(x_test)))\n",
    "        print(\"Shape of training predictands: \"+str(np.shape(y_train)))\n",
    "        print(\"Shape of testing predictands: \"+str(np.shape(y_test)))\n",
    "        print(\" \")\n",
    "    return x_train, x_test, y_train, y_test"
   ]
  },
  {
   "cell_type": "code",
   "execution_count": 5,
   "id": "8fa58a44-a6e9-4066-b02c-2566128a69aa",
   "metadata": {},
   "outputs": [],
   "source": [
    "def find_year(data, member):\n",
    "    '''\n",
    "    Finds the year 1 member goes below 1 million square km\n",
    "    '''\n",
    "    \n",
    "    data_ = data.sel(member=member)\n",
    "    \n",
    "    year = 2020\n",
    "    for i in data_:\n",
    "        if i>1:\n",
    "            year += 1\n",
    "        else:\n",
    "            return year"
   ]
  },
  {
   "cell_type": "code",
   "execution_count": 6,
   "id": "f73e1f47-5d31-4ba3-94ca-cc08d2dcdee8",
   "metadata": {},
   "outputs": [],
   "source": [
    "def create_df(month):\n",
    "    #### find ice free year for that month\n",
    "    \n",
    "    ###first find 5 year mean\n",
    "    \n",
    "    # define September SIE\n",
    "    SIE_sept = SIE['CESM1'].sel(time=SIE['time.month']==month).sel(member=np.arange(1, 41, 1))\n",
    "\n",
    "    # find the 5 year running mean\n",
    "    five_year_mean = SIE_sept*0\n",
    "\n",
    "    for i in range(1, 41):\n",
    "        five_year_mean[i-1] = SIE_sept.sel(member=i).rolling(time=5).mean()\n",
    "\n",
    "    five_year_mean = five_year_mean.sel(time=slice('2020', '2100'))\n",
    "    \n",
    "    ### then find the ice free year\n",
    "    ice_free_year = []\n",
    "    for i in range(1, 41):\n",
    "        ice_free_year.append(find_year(five_year_mean, i))\n",
    "    ice_free_year = np.array(ice_free_year)\n",
    "    \n",
    "    #### find max amt of ice lost in the month\n",
    "    \n",
    "    ice_lost_max = []\n",
    "    for i in range(1, 41):\n",
    "        ice_lost_max.append(float(nb_ext_data['RILE Indicator'].sel(member=i).sel(month=month).min().values))\n",
    "    ice_lost_max = np.array(ice_lost_max)\n",
    "    \n",
    "    #### find longest duration for the month\n",
    "    \n",
    "    length_max = []\n",
    "    for i in range(1, 41):\n",
    "        length_max.append(float(length_data['Length'].sel(member=i).sel(month=month).max().values))\n",
    "    length_max = np.array(length_max)\n",
    "    \n",
    "    #### create dataframe\n",
    "    \n",
    "    member = pd.DataFrame(data=np.arange(1, 41), columns=['Member'])\n",
    "    month = pd.DataFrame(data=(np.zeros(40)+month), columns=['Month'])\n",
    "    ice_free_yr_df = pd.DataFrame(data=ice_free_year, columns=['Ice Free Year'])\n",
    "    ice_lost_max_df = pd.DataFrame(data=ice_lost_max, columns=['Max Ice Lost'])*-1\n",
    "    length_max_df = pd.DataFrame(data=length_max, columns=['Longest Duration'])\n",
    "    \n",
    "    this_month_df = pd.concat([member, month, ice_free_yr_df, ice_lost_max_df, length_max_df], axis=1)\n",
    "    \n",
    "    return this_month_df"
   ]
  },
  {
   "cell_type": "markdown",
   "id": "a08a7517-e004-491c-b0fc-c9e7c4322903",
   "metadata": {
    "tags": []
   },
   "source": [
    "## Step 1: Read in Data"
   ]
  },
  {
   "cell_type": "code",
   "execution_count": 3,
   "id": "6f823bd6-5e8d-40c2-8fd9-ad533dade7a9",
   "metadata": {},
   "outputs": [],
   "source": [
    "data_path = '/home/daphne/Documents/School/research/icefreeproject/Data/'\n",
    "\n",
    "# Amount of sea ice lost and Sea ice extent data for each RILE\n",
    "nb_ext_data = xr.open_dataset(data_path+'RILE_nbext_CESM.nc')\n",
    "\n",
    "# length data (consecutive years in a row there is a rile for that month)\n",
    "length_data = xr.open_dataset(data_path+'CESM_rile_length.nc')\n",
    "\n",
    "# extent data - can be used to find ice free year for each member\n",
    "SIE = xr.open_dataset(data_path+'CLIVAR_SIE_1850_2100_RCP85.nc')"
   ]
  },
  {
   "cell_type": "markdown",
   "id": "fbd5656f-c160-41d7-aba1-48bdbb02251e",
   "metadata": {},
   "source": [
    "## Step 2: Munge Data"
   ]
  },
  {
   "cell_type": "code",
   "execution_count": 9,
   "id": "48f49110-ee7d-46b7-8c26-253dc3cc25fd",
   "metadata": {},
   "outputs": [],
   "source": [
    "sept_df = create_df(9)"
   ]
  },
  {
   "cell_type": "code",
   "execution_count": 10,
   "id": "68e3a12e-d557-4161-8251-f5fa59c6674b",
   "metadata": {},
   "outputs": [],
   "source": [
    "#sept_df"
   ]
  },
  {
   "cell_type": "markdown",
   "id": "4111a806-263b-4fa4-bfd4-6d796d8eae6f",
   "metadata": {},
   "source": [
    "## Step 3: Apply Data Science Method"
   ]
  },
  {
   "cell_type": "code",
   "execution_count": 11,
   "id": "e1b9d1d7-f0f1-49c0-b093-d1c1874b177e",
   "metadata": {},
   "outputs": [],
   "source": [
    "x = sept_df.drop(['Month','Member', 'Ice Free Year'],axis=1)\n",
    "y = sept_df.drop(['Month','Member', 'Longest Duration', 'Max Ice Lost'], axis=1)"
   ]
  },
  {
   "cell_type": "code",
   "execution_count": null,
   "id": "1249db24-92b9-47c4-b717-dc994b83f24e",
   "metadata": {},
   "outputs": [],
   "source": []
  },
  {
   "cell_type": "code",
   "execution_count": null,
   "id": "21cadbdb-d86f-449d-8953-899ec4b88edf",
   "metadata": {},
   "outputs": [],
   "source": []
  },
  {
   "cell_type": "code",
   "execution_count": null,
   "id": "162157bf-c037-454f-9b3c-6c611247812b",
   "metadata": {},
   "outputs": [],
   "source": []
  },
  {
   "cell_type": "code",
   "execution_count": null,
   "id": "ccc03525-4704-476a-8770-2f216fd0855c",
   "metadata": {},
   "outputs": [],
   "source": []
  },
  {
   "cell_type": "code",
   "execution_count": null,
   "id": "899a924f-fef1-41ff-a1ce-0549bac58f00",
   "metadata": {},
   "outputs": [],
   "source": []
  },
  {
   "cell_type": "code",
   "execution_count": null,
   "id": "7f3bdbe1-5f85-4bb2-a0a0-4ff691027655",
   "metadata": {},
   "outputs": [],
   "source": []
  },
  {
   "cell_type": "code",
   "execution_count": null,
   "id": "2394b408-0275-4505-b0b0-948f243a1d6b",
   "metadata": {},
   "outputs": [],
   "source": []
  },
  {
   "cell_type": "code",
   "execution_count": null,
   "id": "2d224a3b-f097-4e9c-b10b-2b9012a47cc3",
   "metadata": {},
   "outputs": [],
   "source": []
  },
  {
   "cell_type": "code",
   "execution_count": null,
   "id": "5b4b9850-2afe-4b3d-aab2-b7884a35d4be",
   "metadata": {},
   "outputs": [],
   "source": []
  },
  {
   "cell_type": "code",
   "execution_count": null,
   "id": "26305abf-1f95-4963-bc3a-70967a91878f",
   "metadata": {},
   "outputs": [],
   "source": []
  },
  {
   "cell_type": "code",
   "execution_count": null,
   "id": "4179558b-294d-4ae2-ab88-5454e7c066cc",
   "metadata": {},
   "outputs": [],
   "source": []
  },
  {
   "cell_type": "code",
   "execution_count": null,
   "id": "aeb35fef-7022-4d46-86cf-3c9595041e32",
   "metadata": {},
   "outputs": [],
   "source": []
  },
  {
   "cell_type": "markdown",
   "id": "82c5a314-933a-4662-b6d5-e8f44638f69f",
   "metadata": {},
   "source": [
    "## Step 4: Present graphs visually using 2-3 graphs"
   ]
  },
  {
   "cell_type": "code",
   "execution_count": null,
   "id": "71aa6437-4d78-4036-9a56-a46d9bd029d4",
   "metadata": {},
   "outputs": [],
   "source": []
  },
  {
   "cell_type": "markdown",
   "id": "e0b4504a-3424-4726-8e41-92f1b69220d7",
   "metadata": {},
   "source": [
    "## Summary"
   ]
  },
  {
   "cell_type": "code",
   "execution_count": null,
   "id": "50c02323-efb1-4880-abcc-06e5db040547",
   "metadata": {},
   "outputs": [],
   "source": []
  }
 ],
 "metadata": {
  "kernelspec": {
   "display_name": "Python 3 (ipykernel)",
   "language": "python",
   "name": "python3"
  },
  "language_info": {
   "codemirror_mode": {
    "name": "ipython",
    "version": 3
   },
   "file_extension": ".py",
   "mimetype": "text/x-python",
   "name": "python",
   "nbconvert_exporter": "python",
   "pygments_lexer": "ipython3",
   "version": "3.10.4"
  }
 },
 "nbformat": 4,
 "nbformat_minor": 5
}
